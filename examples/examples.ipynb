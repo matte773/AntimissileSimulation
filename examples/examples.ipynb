{
 "cells": [
  {
   "cell_type": "markdown",
   "metadata": {},
   "source": [
    "These are a few examples of the ways that the antimissilesim pip package can be used. There are some issues getting the plots to show when running it in the notebook instead of the command terminal. If this is the case run examples from the README.md in the command terminal to show plots, if desired. "
   ]
  },
  {
   "cell_type": "code",
   "execution_count": 5,
   "metadata": {},
   "outputs": [],
   "source": [
    "import subprocess\n",
    "\n",
    "def run_simulation(mode, show_plots=False, num_simulations=10, max_steps=100,\n",
    "                   missile_position=None, antimissile_position=None, goal_position=None,\n",
    "                   missile_velocity=100, antimissile_velocity=105, weighting_factor=None):\n",
    "    \"\"\"Runs the anti-missile simulation with specified parameters.\"\"\"\n",
    "    \n",
    "    cmd = [\"python\", \"-m\", \"antimissilesim\", \"--mode\", mode]\n",
    "    \n",
    "    if show_plots:\n",
    "        cmd.append(\"--show_plots\")\n",
    "    \n",
    "    cmd.extend([\"--num_simulations\", str(num_simulations)])\n",
    "    cmd.extend([\"--max_steps\", str(max_steps)])\n",
    "    \n",
    "    if missile_position:\n",
    "        cmd.extend([\"--missile_position\"] + list(map(str, missile_position)))\n",
    "    \n",
    "    if antimissile_position:\n",
    "        cmd.extend([\"--antimissile_position\"] + list(map(str, antimissile_position)))\n",
    "    \n",
    "    if goal_position:\n",
    "        cmd.extend([\"--goal_position\"] + list(map(str, goal_position)))\n",
    "    \n",
    "    cmd.extend([\"--missile_velocity\", str(missile_velocity)])\n",
    "    cmd.extend([\"--antimissile_velocity\", str(antimissile_velocity)])\n",
    "    \n",
    "    if weighting_factor is not None:\n",
    "        cmd.extend([\"--weighting_factor\", str(weighting_factor)])\n",
    "    \n",
    "    print(\"Running simulation:\", \" \".join(cmd))\n",
    "    subprocess.run(cmd)\n"
   ]
  },
  {
   "cell_type": "code",
   "execution_count": 6,
   "metadata": {},
   "outputs": [
    {
     "name": "stdout",
     "output_type": "stream",
     "text": [
      "Running simulation: python -m antimissilesim --mode kalman --num_simulations 10 --max_steps 100 --missile_velocity 100 --antimissile_velocity 105\n"
     ]
    }
   ],
   "source": [
    "\n",
    "# Example 1: Basic Kalman simulation with default settings\n",
    "run_simulation(\"kalman\")"
   ]
  },
  {
   "cell_type": "code",
   "execution_count": 7,
   "metadata": {},
   "outputs": [
    {
     "name": "stdout",
     "output_type": "stream",
     "text": [
      "Running simulation: python -m antimissilesim --mode mcts --num_simulations 10 --max_steps 100 --missile_position 0 0 100 --antimissile_position 10 10 200 --goal_position 50 50 0 --missile_velocity 100 --antimissile_velocity 105\n"
     ]
    }
   ],
   "source": [
    "# Example 2: MCTS simulation with custom positions\n",
    "run_simulation(\"mcts\", missile_position=[0, 0, 100], antimissile_position=[10, 10, 200], goal_position=[50, 50, 0])"
   ]
  },
  {
   "cell_type": "code",
   "execution_count": 8,
   "metadata": {},
   "outputs": [
    {
     "name": "stdout",
     "output_type": "stream",
     "text": [
      "Running simulation: python -m antimissilesim --mode pomdp --num_simulations 500 --max_steps 2000 --missile_velocity 100 --antimissile_velocity 105\n"
     ]
    }
   ],
   "source": [
    "\n",
    "# Example 3: POMDP simulation with increased steps and more simulations\n",
    "run_simulation(\"pomdp\", num_simulations=500, max_steps=2000)\n"
   ]
  },
  {
   "cell_type": "code",
   "execution_count": 9,
   "metadata": {},
   "outputs": [
    {
     "name": "stdout",
     "output_type": "stream",
     "text": [
      "Running simulation: python -m antimissilesim --mode pomdp --show_plots --num_simulations 10 --max_steps 100 --missile_velocity 100 --antimissile_velocity 105\n"
     ]
    }
   ],
   "source": [
    "# Example 4: POMDP simulation with visualization enabled\n",
    "run_simulation(\"pomdp\", show_plots=True)"
   ]
  },
  {
   "cell_type": "code",
   "execution_count": 10,
   "metadata": {},
   "outputs": [
    {
     "name": "stdout",
     "output_type": "stream",
     "text": [
      "Running simulation: python -m antimissilesim --mode mcts --num_simulations 10 --max_steps 100 --missile_velocity 150 --antimissile_velocity 120\n"
     ]
    }
   ],
   "source": [
    "# Example 5: MCTS with modified velocities\n",
    "run_simulation(\"mcts\", missile_velocity=150, antimissile_velocity=120)"
   ]
  },
  {
   "cell_type": "code",
   "execution_count": 11,
   "metadata": {},
   "outputs": [
    {
     "name": "stdout",
     "output_type": "stream",
     "text": [
      "Running simulation: python -m antimissilesim --mode pomdp --num_simulations 10 --max_steps 100 --missile_velocity 100 --antimissile_velocity 105 --weighting_factor 0.6\n"
     ]
    }
   ],
   "source": [
    "# Example 6: POMDP with different evade weighting factor\n",
    "run_simulation(\"pomdp\", weighting_factor=0.6)"
   ]
  },
  {
   "cell_type": "code",
   "execution_count": 12,
   "metadata": {},
   "outputs": [
    {
     "name": "stdout",
     "output_type": "stream",
     "text": [
      "Running simulation: python -m antimissilesim --mode kalman --num_simulations 10 --max_steps 100 --missile_position 5 5 50 --antimissile_position 20 20 150 --goal_position 80 80 0 --missile_velocity 130 --antimissile_velocity 110\n"
     ]
    }
   ],
   "source": [
    "# Example 7: Kalman with custom positions and velocities\n",
    "run_simulation(\"kalman\", missile_position=[5, 5, 50], antimissile_position=[20, 20, 150], goal_position=[80, 80, 0],\n",
    "               missile_velocity=130, antimissile_velocity=110)"
   ]
  },
  {
   "cell_type": "code",
   "execution_count": 13,
   "metadata": {},
   "outputs": [
    {
     "name": "stdout",
     "output_type": "stream",
     "text": [
      "Running simulation: python -m antimissilesim --mode mcts --show_plots --num_simulations 10 --max_steps 100 --missile_velocity 100 --antimissile_velocity 105 --weighting_factor 0.9\n"
     ]
    }
   ],
   "source": [
    "# Example 8: MCTS with high evade weighting factor and visualization\n",
    "run_simulation(\"mcts\", weighting_factor=0.9, show_plots=True)"
   ]
  },
  {
   "cell_type": "code",
   "execution_count": 14,
   "metadata": {},
   "outputs": [
    {
     "name": "stdout",
     "output_type": "stream",
     "text": [
      "Running simulation: python -m antimissilesim --mode pomdp --num_simulations 10 --max_steps 5000 --missile_velocity 100 --antimissile_velocity 105\n"
     ]
    }
   ],
   "source": [
    "\n",
    "# Example 9: POMDP with extreme step count for long-term analysis\n",
    "run_simulation(\"pomdp\", max_steps=5000)\n"
   ]
  },
  {
   "cell_type": "code",
   "execution_count": 15,
   "metadata": {},
   "outputs": [
    {
     "name": "stdout",
     "output_type": "stream",
     "text": [
      "Running simulation: python -m antimissilesim --mode kalman --num_simulations 10 --max_steps 100 --missile_position -10 30 120 --antimissile_position 25 -15 250 --goal_position 60 40 10 --missile_velocity 180 --antimissile_velocity 140\n"
     ]
    }
   ],
   "source": [
    "# Example 10: Kalman with randomized positions and different velocities\n",
    "run_simulation(\"kalman\", missile_position=[-10, 30, 120], antimissile_position=[25, -15, 250], goal_position=[60, 40, 10],\n",
    "               missile_velocity=180, antimissile_velocity=140)"
   ]
  }
 ],
 "metadata": {
  "kernelspec": {
   "display_name": ".venv",
   "language": "python",
   "name": "python3"
  },
  "language_info": {
   "codemirror_mode": {
    "name": "ipython",
    "version": 3
   },
   "file_extension": ".py",
   "mimetype": "text/x-python",
   "name": "python",
   "nbconvert_exporter": "python",
   "pygments_lexer": "ipython3",
   "version": "3.10.6"
  }
 },
 "nbformat": 4,
 "nbformat_minor": 2
}
